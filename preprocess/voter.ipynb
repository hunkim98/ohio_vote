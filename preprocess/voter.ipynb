{
 "cells": [
  {
   "cell_type": "code",
   "execution_count": 1,
   "metadata": {},
   "outputs": [],
   "source": [
    "import pandas as pd\n",
    "import numpy as np"
   ]
  },
  {
   "cell_type": "code",
   "execution_count": 2,
   "metadata": {},
   "outputs": [
    {
     "name": "stderr",
     "output_type": "stream",
     "text": [
      "/var/folders/wy/50c5sv7n4wsfhhww_wwjz2tr0000gn/T/ipykernel_59010/1013677518.py:2: DtypeWarning: Columns (1,2,3,4,5,6,7,8,9,10,11,12,13,14,15,16,17,18,19,20,21,22,23,24,25,26,27,28,29,30,31,32,33,34,35,36,37,38,39,40,41,42,43,44,45,46,47,48,49,50,51,52,53,54,55,56,57,58,59,60,61,62,63,64,65,66,67,68,69,70,71,72,73,74,75,76,77,78,79,80,81,82,83,84,85,86,87,88,89,90,91,92,93,94,95,96,97,98,99,100,101,102,103,104,105,106,107,108,109,110,111,112,113,114,115,116,117,118,119,120,121,122,123,124,125,126,127,128,129,130,131,132,133,134,135,136,137,138,139,140,141,142,143,144,145,146,147,148,149,150,151,152,154,155,156,157,160,161,163,164,166,170,171,172,176,177,178,179,181,183,184,186,188,189,190,191,193,195,196,197,198,199,200,202,203,204,205,207,208,209,210,211,212,213,214,215,216,220,223,226,227,240,245,246,310,311,312,313,314,315,316,317,318,319,320,321,322,323,324,325,326,327,328,329,330,331,332,333,334,335,336,337,338,339,340,341,342,343,344,345,346,347,348,349,350,351,352,353,354,355,356,357,358,359,360,361,362,363,364,365,366,367,368,369,370,371,372,373,375,376,377,378,380,381,382,383,384,385,386,387,388,389,390,391,392,393,394,395,396,397,398,399,401,402,403,404,406,407,408,409,410,411,412,413,414,415,416,417,418,419,420,421) have mixed types. Specify dtype option on import or set low_memory=False.\n",
      "  df_voter = pd.read_csv('../data/oh_voter_history_2024_10_31.csv')\n"
     ]
    }
   ],
   "source": [
    "# df_demography = pd.read_csv('./data/oh_demographic_2024_10_31.csv')\n",
    "df_voter = pd.read_csv('../data/oh_voter_history_2024_10_31.csv')"
   ]
  },
  {
   "cell_type": "code",
   "execution_count": 3,
   "metadata": {},
   "outputs": [
    {
     "data": {
      "text/html": [
       "<div>\n",
       "<style scoped>\n",
       "    .dataframe tbody tr th:only-of-type {\n",
       "        vertical-align: middle;\n",
       "    }\n",
       "\n",
       "    .dataframe tbody tr th {\n",
       "        vertical-align: top;\n",
       "    }\n",
       "\n",
       "    .dataframe thead th {\n",
       "        text-align: right;\n",
       "    }\n",
       "</style>\n",
       "<table border=\"1\" class=\"dataframe\">\n",
       "  <thead>\n",
       "    <tr style=\"text-align: right;\">\n",
       "      <th></th>\n",
       "      <th>LALVOTERID</th>\n",
       "      <th>Special_2024_06_11</th>\n",
       "      <th>Presidential_Primary_2024_03_19</th>\n",
       "      <th>Primary_2024_03_19</th>\n",
       "      <th>Special_2023_12_05</th>\n",
       "      <th>General_2023_11_07</th>\n",
       "      <th>Local_or_Municipal_2023_10_03</th>\n",
       "      <th>Special_2023_09_12</th>\n",
       "      <th>Special_2023_08_08</th>\n",
       "      <th>Primary_2023_05_02</th>\n",
       "      <th>...</th>\n",
       "      <th>BallotReturnDate_General_2015_11_03</th>\n",
       "      <th>BallotReturnDate_General_2014_11_04</th>\n",
       "      <th>BallotReturnDate_Primary_2014_05_06</th>\n",
       "      <th>BallotReturnDate_General_2013_11_05</th>\n",
       "      <th>BallotReturnDate_General_2012_11_06</th>\n",
       "      <th>BallotReturnDate_Presidential_Primary_2012_03_06</th>\n",
       "      <th>BallotReturnDate_Primary_2012_03_06</th>\n",
       "      <th>BallotReturnDate_General_2011_11_08</th>\n",
       "      <th>BallotReturnDate_General_2010_11_02</th>\n",
       "      <th>BallotReturnDate_Primary_2010_05_04</th>\n",
       "    </tr>\n",
       "  </thead>\n",
       "  <tbody>\n",
       "    <tr>\n",
       "      <th>0</th>\n",
       "      <td>LALOH453355342</td>\n",
       "      <td>NaN</td>\n",
       "      <td>NaN</td>\n",
       "      <td>NaN</td>\n",
       "      <td>NaN</td>\n",
       "      <td>NaN</td>\n",
       "      <td>NaN</td>\n",
       "      <td>NaN</td>\n",
       "      <td>NaN</td>\n",
       "      <td>NaN</td>\n",
       "      <td>...</td>\n",
       "      <td>NaN</td>\n",
       "      <td>NaN</td>\n",
       "      <td>NaN</td>\n",
       "      <td>NaN</td>\n",
       "      <td>NaN</td>\n",
       "      <td>NaN</td>\n",
       "      <td>NaN</td>\n",
       "      <td>NaN</td>\n",
       "      <td>NaN</td>\n",
       "      <td>NaN</td>\n",
       "    </tr>\n",
       "    <tr>\n",
       "      <th>1</th>\n",
       "      <td>LALOH562914718</td>\n",
       "      <td>NaN</td>\n",
       "      <td>NaN</td>\n",
       "      <td>NaN</td>\n",
       "      <td>NaN</td>\n",
       "      <td>NaN</td>\n",
       "      <td>NaN</td>\n",
       "      <td>NaN</td>\n",
       "      <td>NaN</td>\n",
       "      <td>NaN</td>\n",
       "      <td>...</td>\n",
       "      <td>NaN</td>\n",
       "      <td>NaN</td>\n",
       "      <td>NaN</td>\n",
       "      <td>NaN</td>\n",
       "      <td>NaN</td>\n",
       "      <td>NaN</td>\n",
       "      <td>NaN</td>\n",
       "      <td>NaN</td>\n",
       "      <td>NaN</td>\n",
       "      <td>NaN</td>\n",
       "    </tr>\n",
       "    <tr>\n",
       "      <th>2</th>\n",
       "      <td>LALOH694596024</td>\n",
       "      <td>NaN</td>\n",
       "      <td>NaN</td>\n",
       "      <td>NaN</td>\n",
       "      <td>NaN</td>\n",
       "      <td>NaN</td>\n",
       "      <td>NaN</td>\n",
       "      <td>NaN</td>\n",
       "      <td>NaN</td>\n",
       "      <td>NaN</td>\n",
       "      <td>...</td>\n",
       "      <td>NaN</td>\n",
       "      <td>NaN</td>\n",
       "      <td>NaN</td>\n",
       "      <td>NaN</td>\n",
       "      <td>NaN</td>\n",
       "      <td>NaN</td>\n",
       "      <td>NaN</td>\n",
       "      <td>NaN</td>\n",
       "      <td>NaN</td>\n",
       "      <td>NaN</td>\n",
       "    </tr>\n",
       "    <tr>\n",
       "      <th>3</th>\n",
       "      <td>LALOH675073612</td>\n",
       "      <td>NaN</td>\n",
       "      <td>NaN</td>\n",
       "      <td>NaN</td>\n",
       "      <td>NaN</td>\n",
       "      <td>NaN</td>\n",
       "      <td>NaN</td>\n",
       "      <td>NaN</td>\n",
       "      <td>NaN</td>\n",
       "      <td>NaN</td>\n",
       "      <td>...</td>\n",
       "      <td>NaN</td>\n",
       "      <td>NaN</td>\n",
       "      <td>NaN</td>\n",
       "      <td>NaN</td>\n",
       "      <td>NaN</td>\n",
       "      <td>NaN</td>\n",
       "      <td>NaN</td>\n",
       "      <td>NaN</td>\n",
       "      <td>NaN</td>\n",
       "      <td>NaN</td>\n",
       "    </tr>\n",
       "    <tr>\n",
       "      <th>4</th>\n",
       "      <td>LALOH484081891</td>\n",
       "      <td>NaN</td>\n",
       "      <td>NaN</td>\n",
       "      <td>NaN</td>\n",
       "      <td>NaN</td>\n",
       "      <td>NaN</td>\n",
       "      <td>NaN</td>\n",
       "      <td>NaN</td>\n",
       "      <td>NaN</td>\n",
       "      <td>NaN</td>\n",
       "      <td>...</td>\n",
       "      <td>NaN</td>\n",
       "      <td>NaN</td>\n",
       "      <td>NaN</td>\n",
       "      <td>NaN</td>\n",
       "      <td>NaN</td>\n",
       "      <td>NaN</td>\n",
       "      <td>NaN</td>\n",
       "      <td>NaN</td>\n",
       "      <td>NaN</td>\n",
       "      <td>NaN</td>\n",
       "    </tr>\n",
       "  </tbody>\n",
       "</table>\n",
       "<p>5 rows × 422 columns</p>\n",
       "</div>"
      ],
      "text/plain": [
       "       LALVOTERID Special_2024_06_11 Presidential_Primary_2024_03_19  \\\n",
       "0  LALOH453355342                NaN                             NaN   \n",
       "1  LALOH562914718                NaN                             NaN   \n",
       "2  LALOH694596024                NaN                             NaN   \n",
       "3  LALOH675073612                NaN                             NaN   \n",
       "4  LALOH484081891                NaN                             NaN   \n",
       "\n",
       "  Primary_2024_03_19 Special_2023_12_05 General_2023_11_07  \\\n",
       "0                NaN                NaN                NaN   \n",
       "1                NaN                NaN                NaN   \n",
       "2                NaN                NaN                NaN   \n",
       "3                NaN                NaN                NaN   \n",
       "4                NaN                NaN                NaN   \n",
       "\n",
       "  Local_or_Municipal_2023_10_03 Special_2023_09_12 Special_2023_08_08  \\\n",
       "0                           NaN                NaN                NaN   \n",
       "1                           NaN                NaN                NaN   \n",
       "2                           NaN                NaN                NaN   \n",
       "3                           NaN                NaN                NaN   \n",
       "4                           NaN                NaN                NaN   \n",
       "\n",
       "  Primary_2023_05_02  ... BallotReturnDate_General_2015_11_03  \\\n",
       "0                NaN  ...                                 NaN   \n",
       "1                NaN  ...                                 NaN   \n",
       "2                NaN  ...                                 NaN   \n",
       "3                NaN  ...                                 NaN   \n",
       "4                NaN  ...                                 NaN   \n",
       "\n",
       "  BallotReturnDate_General_2014_11_04 BallotReturnDate_Primary_2014_05_06  \\\n",
       "0                                 NaN                                 NaN   \n",
       "1                                 NaN                                 NaN   \n",
       "2                                 NaN                                 NaN   \n",
       "3                                 NaN                                 NaN   \n",
       "4                                 NaN                                 NaN   \n",
       "\n",
       "  BallotReturnDate_General_2013_11_05 BallotReturnDate_General_2012_11_06  \\\n",
       "0                                 NaN                                 NaN   \n",
       "1                                 NaN                                 NaN   \n",
       "2                                 NaN                                 NaN   \n",
       "3                                 NaN                                 NaN   \n",
       "4                                 NaN                                 NaN   \n",
       "\n",
       "  BallotReturnDate_Presidential_Primary_2012_03_06  \\\n",
       "0                                              NaN   \n",
       "1                                              NaN   \n",
       "2                                              NaN   \n",
       "3                                              NaN   \n",
       "4                                              NaN   \n",
       "\n",
       "  BallotReturnDate_Primary_2012_03_06 BallotReturnDate_General_2011_11_08  \\\n",
       "0                                 NaN                                 NaN   \n",
       "1                                 NaN                                 NaN   \n",
       "2                                 NaN                                 NaN   \n",
       "3                                 NaN                                 NaN   \n",
       "4                                 NaN                                 NaN   \n",
       "\n",
       "  BallotReturnDate_General_2010_11_02 BallotReturnDate_Primary_2010_05_04  \n",
       "0                                 NaN                                 NaN  \n",
       "1                                 NaN                                 NaN  \n",
       "2                                 NaN                                 NaN  \n",
       "3                                 NaN                                 NaN  \n",
       "4                                 NaN                                 NaN  \n",
       "\n",
       "[5 rows x 422 columns]"
      ]
     },
     "execution_count": 3,
     "metadata": {},
     "output_type": "execute_result"
    }
   ],
   "source": [
    "df_voter.head()"
   ]
  },
  {
   "cell_type": "code",
   "execution_count": 4,
   "metadata": {},
   "outputs": [
    {
     "data": {
      "text/plain": [
       "Index(['LALVOTERID', 'Special_2024_06_11', 'Presidential_Primary_2024_03_19',\n",
       "       'Primary_2024_03_19', 'Special_2023_12_05', 'General_2023_11_07',\n",
       "       'Local_or_Municipal_2023_10_03', 'Special_2023_09_12',\n",
       "       'Special_2023_08_08', 'Primary_2023_05_02',\n",
       "       ...\n",
       "       'BallotReturnDate_General_2015_11_03',\n",
       "       'BallotReturnDate_General_2014_11_04',\n",
       "       'BallotReturnDate_Primary_2014_05_06',\n",
       "       'BallotReturnDate_General_2013_11_05',\n",
       "       'BallotReturnDate_General_2012_11_06',\n",
       "       'BallotReturnDate_Presidential_Primary_2012_03_06',\n",
       "       'BallotReturnDate_Primary_2012_03_06',\n",
       "       'BallotReturnDate_General_2011_11_08',\n",
       "       'BallotReturnDate_General_2010_11_02',\n",
       "       'BallotReturnDate_Primary_2010_05_04'],\n",
       "      dtype='object', length=422)"
      ]
     },
     "execution_count": 4,
     "metadata": {},
     "output_type": "execute_result"
    }
   ],
   "source": [
    "df_voter.columns"
   ]
  },
  {
   "cell_type": "code",
   "execution_count": 5,
   "metadata": {},
   "outputs": [
    {
     "name": "stdout",
     "output_type": "stream",
     "text": [
      "(7760253, 422)\n"
     ]
    }
   ],
   "source": [
    "# print dimension\n",
    "print(df_voter.shape)"
   ]
  },
  {
   "cell_type": "code",
   "execution_count": 6,
   "metadata": {},
   "outputs": [
    {
     "data": {
      "text/plain": [
       "array([nan, 'Y'], dtype=object)"
      ]
     },
     "execution_count": 6,
     "metadata": {},
     "output_type": "execute_result"
    }
   ],
   "source": [
    "df_voter[\"Special_2024_06_11\"].unique()"
   ]
  },
  {
   "cell_type": "code",
   "execution_count": 29,
   "metadata": {},
   "outputs": [
    {
     "name": "stdout",
     "output_type": "stream",
     "text": [
      "['Presidential_Primary_2024_03_19', 'Presidential_Primary_2020_03_17', 'Presidential_Primary_2016_03_15', 'Presidential_Primary_2012_03_06', 'Presidential_Primary_2008_03_04', 'Presidential_Primary_2004_03_02', 'Presidential_Primary_2000_03_07']\n"
     ]
    }
   ],
   "source": [
    "# get columns that start with Presidential primary \n",
    "presidential_columns = [i for i in df_voter.columns if i.startswith(\"Presidential_Primary\")]\n",
    "print(presidential_columns)"
   ]
  },
  {
   "cell_type": "code",
   "execution_count": 30,
   "metadata": {},
   "outputs": [],
   "source": [
    "# reverse the presidential_columns\n",
    "presidential_columns = presidential_columns[::-1]\n",
    "df_voter_small = df_voter[[\"LALVOTERID\"] + presidential_columns]\n",
    "\n",
    "# save \n",
    "df_voter_small.to_csv(\"../data/oh_voter_history_presidential_primary.csv\", index=False)"
   ]
  },
  {
   "cell_type": "code",
   "execution_count": 32,
   "metadata": {},
   "outputs": [
    {
     "data": {
      "text/html": [
       "<div>\n",
       "<style scoped>\n",
       "    .dataframe tbody tr th:only-of-type {\n",
       "        vertical-align: middle;\n",
       "    }\n",
       "\n",
       "    .dataframe tbody tr th {\n",
       "        vertical-align: top;\n",
       "    }\n",
       "\n",
       "    .dataframe thead th {\n",
       "        text-align: right;\n",
       "    }\n",
       "</style>\n",
       "<table border=\"1\" class=\"dataframe\">\n",
       "  <thead>\n",
       "    <tr style=\"text-align: right;\">\n",
       "      <th></th>\n",
       "      <th>LALVOTERID</th>\n",
       "      <th>Presidential_Primary_2000_03_07</th>\n",
       "      <th>Presidential_Primary_2004_03_02</th>\n",
       "      <th>Presidential_Primary_2008_03_04</th>\n",
       "      <th>Presidential_Primary_2012_03_06</th>\n",
       "      <th>Presidential_Primary_2016_03_15</th>\n",
       "      <th>Presidential_Primary_2020_03_17</th>\n",
       "      <th>Presidential_Primary_2024_03_19</th>\n",
       "    </tr>\n",
       "  </thead>\n",
       "  <tbody>\n",
       "    <tr>\n",
       "      <th>0</th>\n",
       "      <td>LALOH453355342</td>\n",
       "      <td>NaN</td>\n",
       "      <td>NaN</td>\n",
       "      <td>NaN</td>\n",
       "      <td>NaN</td>\n",
       "      <td>NaN</td>\n",
       "      <td>NaN</td>\n",
       "      <td>NaN</td>\n",
       "    </tr>\n",
       "    <tr>\n",
       "      <th>1</th>\n",
       "      <td>LALOH562914718</td>\n",
       "      <td>NaN</td>\n",
       "      <td>NaN</td>\n",
       "      <td>NaN</td>\n",
       "      <td>NaN</td>\n",
       "      <td>NaN</td>\n",
       "      <td>NaN</td>\n",
       "      <td>NaN</td>\n",
       "    </tr>\n",
       "    <tr>\n",
       "      <th>2</th>\n",
       "      <td>LALOH694596024</td>\n",
       "      <td>NaN</td>\n",
       "      <td>NaN</td>\n",
       "      <td>NaN</td>\n",
       "      <td>NaN</td>\n",
       "      <td>NaN</td>\n",
       "      <td>NaN</td>\n",
       "      <td>NaN</td>\n",
       "    </tr>\n",
       "    <tr>\n",
       "      <th>3</th>\n",
       "      <td>LALOH675073612</td>\n",
       "      <td>NaN</td>\n",
       "      <td>NaN</td>\n",
       "      <td>NaN</td>\n",
       "      <td>NaN</td>\n",
       "      <td>NaN</td>\n",
       "      <td>NaN</td>\n",
       "      <td>NaN</td>\n",
       "    </tr>\n",
       "    <tr>\n",
       "      <th>4</th>\n",
       "      <td>LALOH484081891</td>\n",
       "      <td>NaN</td>\n",
       "      <td>NaN</td>\n",
       "      <td>NaN</td>\n",
       "      <td>NaN</td>\n",
       "      <td>NaN</td>\n",
       "      <td>NaN</td>\n",
       "      <td>NaN</td>\n",
       "    </tr>\n",
       "  </tbody>\n",
       "</table>\n",
       "</div>"
      ],
      "text/plain": [
       "       LALVOTERID Presidential_Primary_2000_03_07  \\\n",
       "0  LALOH453355342                             NaN   \n",
       "1  LALOH562914718                             NaN   \n",
       "2  LALOH694596024                             NaN   \n",
       "3  LALOH675073612                             NaN   \n",
       "4  LALOH484081891                             NaN   \n",
       "\n",
       "  Presidential_Primary_2004_03_02 Presidential_Primary_2008_03_04  \\\n",
       "0                             NaN                             NaN   \n",
       "1                             NaN                             NaN   \n",
       "2                             NaN                             NaN   \n",
       "3                             NaN                             NaN   \n",
       "4                             NaN                             NaN   \n",
       "\n",
       "  Presidential_Primary_2012_03_06 Presidential_Primary_2016_03_15  \\\n",
       "0                             NaN                             NaN   \n",
       "1                             NaN                             NaN   \n",
       "2                             NaN                             NaN   \n",
       "3                             NaN                             NaN   \n",
       "4                             NaN                             NaN   \n",
       "\n",
       "  Presidential_Primary_2020_03_17 Presidential_Primary_2024_03_19  \n",
       "0                             NaN                             NaN  \n",
       "1                             NaN                             NaN  \n",
       "2                             NaN                             NaN  \n",
       "3                             NaN                             NaN  \n",
       "4                             NaN                             NaN  "
      ]
     },
     "execution_count": 32,
     "metadata": {},
     "output_type": "execute_result"
    }
   ],
   "source": [
    "df_voter_small.head()"
   ]
  },
  {
   "cell_type": "code",
   "execution_count": 33,
   "metadata": {},
   "outputs": [
    {
     "name": "stdout",
     "output_type": "stream",
     "text": [
      "Presidential_Primary_2000_03_07\n",
      "Y    1139801\n",
      "Name: count, dtype: int64\n",
      "Presidential_Primary_2004_03_02\n",
      "Y    1272029\n",
      "Name: count, dtype: int64\n",
      "Presidential_Primary_2008_03_04\n",
      "Y    2369197\n",
      "Name: count, dtype: int64\n",
      "Presidential_Primary_2012_03_06\n",
      "Y    1430378\n",
      "Name: count, dtype: int64\n",
      "Presidential_Primary_2016_03_15\n",
      "Y    2734105\n",
      "Name: count, dtype: int64\n",
      "Presidential_Primary_2020_03_17\n",
      "Y    1646084\n",
      "Name: count, dtype: int64\n",
      "Presidential_Primary_2024_03_19\n",
      "Y    1762020\n",
      "Name: count, dtype: int64\n"
     ]
    }
   ],
   "source": [
    "# count the density of the presidential primary\n",
    "for i in presidential_columns:\n",
    "    print(df_voter_small[i].value_counts())"
   ]
  },
  {
   "cell_type": "code",
   "execution_count": 34,
   "metadata": {},
   "outputs": [
    {
     "name": "stderr",
     "output_type": "stream",
     "text": [
      "/var/folders/wy/50c5sv7n4wsfhhww_wwjz2tr0000gn/T/ipykernel_59010/1992489062.py:10: FutureWarning: Series.__getitem__ treating keys as positions is deprecated. In a future version, integer keys will always be treated as labels (consistent with DataFrame behavior). To access a value by position, use `ser.iloc[pos]`\n",
      "  plt.bar(range(len(values)), [values[i][0] for i in presidential_columns], color='r')\n"
     ]
    },
    {
     "data": {
      "text/plain": [
       "Text(0, 0.5, 'Number of voters')"
      ]
     },
     "execution_count": 34,
     "metadata": {},
     "output_type": "execute_result"
    },
    {
     "data": {
      "image/png": "[encoded data removed]",
      "text/plain": [
       "<Figure size 1000x500 with 1 Axes>"
      ]
     },
     "metadata": {},
     "output_type": "display_data"
    }
   ],
   "source": [
    "# plot the density of the presidential primary\n",
    "import matplotlib.pyplot as plt\n",
    "\n",
    "values = {}\n",
    "for i in presidential_columns:\n",
    "    values[i] = df_voter_small[i].value_counts()\n",
    "\n",
    "# now plot all together as histogram\n",
    "plt.figure(figsize=(10, 5))\n",
    "plt.bar(range(len(values)), [values[i][0] for i in presidential_columns], color='r')\n",
    "# let's add the labels\n",
    "plt.xticks(range(len(values)), values.keys(), rotation=45)\n",
    "plt.ylabel(\"Number of voters\")\n"
   ]
  },
  {
   "cell_type": "code",
   "execution_count": 35,
   "metadata": {},
   "outputs": [],
   "source": [
    "# count steady voters\n",
    "\n"
   ]
  }
 ],
 "metadata": {
  "kernelspec": {
   "display_name": ".venv",
   "language": "python",
   "name": "python3"
  },
  "language_info": {
   "codemirror_mode": {
    "name": "ipython",
    "version": 3
   },
   "file_extension": ".py",
   "mimetype": "text/x-python",
   "name": "python",
   "nbconvert_exporter": "python",
   "pygments_lexer": "ipython3",
   "version": "3.11.5"
  }
 },
 "nbformat": 4,
 "nbformat_minor": 2
}
