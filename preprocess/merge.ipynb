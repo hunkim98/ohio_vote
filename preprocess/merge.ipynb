{
 "cells": [
  {
   "cell_type": "code",
   "execution_count": 9,
   "metadata": {},
   "outputs": [],
   "source": [
    "import pandas as pd\n",
    "import numpy as np"
   ]
  },
  {
   "cell_type": "code",
   "execution_count": 10,
   "metadata": {},
   "outputs": [
    {
     "name": "stderr",
     "output_type": "stream",
     "text": [
      "/var/folders/wy/50c5sv7n4wsfhhww_wwjz2tr0000gn/T/ipykernel_21162/4162167430.py:1: DtypeWarning: Columns (17) have mixed types. Specify dtype option on import or set low_memory=False.\n",
      "  df_demography = pd.read_csv(\"../data/oh_demographic_2024_10_31_core.csv\")\n",
      "/var/folders/wy/50c5sv7n4wsfhhww_wwjz2tr0000gn/T/ipykernel_21162/4162167430.py:2: DtypeWarning: Columns (5,6) have mixed types. Specify dtype option on import or set low_memory=False.\n",
      "  df_voter = pd.read_csv(\"../data/oh_voter_history_presidential_primary.csv\")\n"
     ]
    }
   ],
   "source": [
    "df_demography = pd.read_csv(\"../data/oh_demographic_2024_10_31_core.csv\")\n",
    "df_voter = pd.read_csv(\"../data/oh_voter_history_presidential_primary.csv\")"
   ]
  },
  {
   "cell_type": "code",
   "execution_count": 14,
   "metadata": {},
   "outputs": [],
   "source": [
    "assert len(set(df_demography.columns) & set(df_voter.columns)) == 1"
   ]
  },
  {
   "cell_type": "code",
   "execution_count": 16,
   "metadata": {},
   "outputs": [
    {
     "data": {
      "text/plain": [
       "'LALVOTERID'"
      ]
     },
     "execution_count": 16,
     "metadata": {},
     "output_type": "execute_result"
    }
   ],
   "source": [
    "df_demography.columns[0]"
   ]
  },
  {
   "cell_type": "code",
   "execution_count": 17,
   "metadata": {},
   "outputs": [],
   "source": [
    "df_merged = pd.merge(df_demography, df_voter, how=\"left\", on=[\"LALVOTERID\"])"
   ]
  },
  {
   "cell_type": "code",
   "execution_count": 22,
   "metadata": {},
   "outputs": [
    {
     "name": "stdout",
     "output_type": "stream",
     "text": [
      "set()\n",
      "set()\n"
     ]
    }
   ],
   "source": [
    "print(set(df_demography[\"LALVOTERID\"]) - set(df_voter[\"LALVOTERID\"]))\n",
    "print(set(df_voter[\"LALVOTERID\"]) - set(df_demography[\"LALVOTERID\"]))"
   ]
  },
  {
   "cell_type": "code",
   "execution_count": 18,
   "metadata": {},
   "outputs": [
    {
     "data": {
      "text/html": [
       "<div>\n",
       "<style scoped>\n",
       "    .dataframe tbody tr th:only-of-type {\n",
       "        vertical-align: middle;\n",
       "    }\n",
       "\n",
       "    .dataframe tbody tr th {\n",
       "        vertical-align: top;\n",
       "    }\n",
       "\n",
       "    .dataframe thead th {\n",
       "        text-align: right;\n",
       "    }\n",
       "</style>\n",
       "<table border=\"1\" class=\"dataframe\">\n",
       "  <thead>\n",
       "    <tr style=\"text-align: right;\">\n",
       "      <th></th>\n",
       "      <th>LALVOTERID</th>\n",
       "      <th>Residence_Addresses_CensusBlock</th>\n",
       "      <th>Residence_Families_FamilyID</th>\n",
       "      <th>Residence_Addresses_Property_Land_Square_Footage</th>\n",
       "      <th>Residence_Addresses_Property_Type</th>\n",
       "      <th>Mailing_Addresses_State</th>\n",
       "      <th>Mailing_Addresses_Zip</th>\n",
       "      <th>Voters_Gender</th>\n",
       "      <th>Voters_Age</th>\n",
       "      <th>Voters_BirthDate</th>\n",
       "      <th>...</th>\n",
       "      <th>ConsumerData_Likely_Educational_Attainment_Ranking_by_Area</th>\n",
       "      <th>ConsumerData_Social_Ranking_Index_by_Area</th>\n",
       "      <th>ConsumerData_MAID_Available</th>\n",
       "      <th>Presidential_Primary_2000_03_07</th>\n",
       "      <th>Presidential_Primary_2004_03_02</th>\n",
       "      <th>Presidential_Primary_2008_03_04</th>\n",
       "      <th>Presidential_Primary_2012_03_06</th>\n",
       "      <th>Presidential_Primary_2016_03_15</th>\n",
       "      <th>Presidential_Primary_2020_03_17</th>\n",
       "      <th>Presidential_Primary_2024_03_19</th>\n",
       "    </tr>\n",
       "  </thead>\n",
       "  <tbody>\n",
       "    <tr>\n",
       "      <th>0</th>\n",
       "      <td>LALOH483988945</td>\n",
       "      <td>2034.0</td>\n",
       "      <td>R021844817</td>\n",
       "      <td>13000.0</td>\n",
       "      <td>Apartment</td>\n",
       "      <td>MA</td>\n",
       "      <td>2119.0</td>\n",
       "      <td>M</td>\n",
       "      <td>27.0</td>\n",
       "      <td>1997-05-06</td>\n",
       "      <td>...</td>\n",
       "      <td>2.0</td>\n",
       "      <td>4.0</td>\n",
       "      <td>NaN</td>\n",
       "      <td>NaN</td>\n",
       "      <td>NaN</td>\n",
       "      <td>NaN</td>\n",
       "      <td>NaN</td>\n",
       "      <td>Y</td>\n",
       "      <td>Y</td>\n",
       "      <td>NaN</td>\n",
       "    </tr>\n",
       "    <tr>\n",
       "      <th>1</th>\n",
       "      <td>LALOH539415345</td>\n",
       "      <td>3006.0</td>\n",
       "      <td>R015691344</td>\n",
       "      <td>14000.0</td>\n",
       "      <td>Apartment</td>\n",
       "      <td>MA</td>\n",
       "      <td>2135.0</td>\n",
       "      <td>M</td>\n",
       "      <td>24.0</td>\n",
       "      <td>2000-05-30</td>\n",
       "      <td>...</td>\n",
       "      <td>7.0</td>\n",
       "      <td>8.0</td>\n",
       "      <td>NaN</td>\n",
       "      <td>NaN</td>\n",
       "      <td>NaN</td>\n",
       "      <td>NaN</td>\n",
       "      <td>NaN</td>\n",
       "      <td>NaN</td>\n",
       "      <td>NaN</td>\n",
       "      <td>NaN</td>\n",
       "    </tr>\n",
       "    <tr>\n",
       "      <th>2</th>\n",
       "      <td>LALOH309002</td>\n",
       "      <td>1026.0</td>\n",
       "      <td>R000431800</td>\n",
       "      <td>56000.0</td>\n",
       "      <td>Residential</td>\n",
       "      <td>ME</td>\n",
       "      <td>3904.0</td>\n",
       "      <td>M</td>\n",
       "      <td>40.0</td>\n",
       "      <td>1984-04-04</td>\n",
       "      <td>...</td>\n",
       "      <td>5.0</td>\n",
       "      <td>5.0</td>\n",
       "      <td>True</td>\n",
       "      <td>NaN</td>\n",
       "      <td>NaN</td>\n",
       "      <td>NaN</td>\n",
       "      <td>NaN</td>\n",
       "      <td>NaN</td>\n",
       "      <td>NaN</td>\n",
       "      <td>NaN</td>\n",
       "    </tr>\n",
       "    <tr>\n",
       "      <th>3</th>\n",
       "      <td>LALOH453346132</td>\n",
       "      <td>1000.0</td>\n",
       "      <td>R005285786</td>\n",
       "      <td>10000.0</td>\n",
       "      <td>Residential</td>\n",
       "      <td>MD</td>\n",
       "      <td>20603.0</td>\n",
       "      <td>F</td>\n",
       "      <td>28.0</td>\n",
       "      <td>1996-06-17</td>\n",
       "      <td>...</td>\n",
       "      <td>8.0</td>\n",
       "      <td>8.0</td>\n",
       "      <td>True</td>\n",
       "      <td>NaN</td>\n",
       "      <td>NaN</td>\n",
       "      <td>NaN</td>\n",
       "      <td>NaN</td>\n",
       "      <td>Y</td>\n",
       "      <td>NaN</td>\n",
       "      <td>NaN</td>\n",
       "    </tr>\n",
       "    <tr>\n",
       "      <th>4</th>\n",
       "      <td>LALOH484000085</td>\n",
       "      <td>3002.0</td>\n",
       "      <td>R020782033</td>\n",
       "      <td>7000.0</td>\n",
       "      <td>Residential</td>\n",
       "      <td>MD</td>\n",
       "      <td>21201.0</td>\n",
       "      <td>NaN</td>\n",
       "      <td>26.0</td>\n",
       "      <td>1998-01-05</td>\n",
       "      <td>...</td>\n",
       "      <td>7.0</td>\n",
       "      <td>6.0</td>\n",
       "      <td>NaN</td>\n",
       "      <td>NaN</td>\n",
       "      <td>NaN</td>\n",
       "      <td>NaN</td>\n",
       "      <td>NaN</td>\n",
       "      <td>NaN</td>\n",
       "      <td>NaN</td>\n",
       "      <td>NaN</td>\n",
       "    </tr>\n",
       "  </tbody>\n",
       "</table>\n",
       "<p>5 rows × 86 columns</p>\n",
       "</div>"
      ],
      "text/plain": [
       "       LALVOTERID  Residence_Addresses_CensusBlock  \\\n",
       "0  LALOH483988945                           2034.0   \n",
       "1  LALOH539415345                           3006.0   \n",
       "2     LALOH309002                           1026.0   \n",
       "3  LALOH453346132                           1000.0   \n",
       "4  LALOH484000085                           3002.0   \n",
       "\n",
       "  Residence_Families_FamilyID  \\\n",
       "0                  R021844817   \n",
       "1                  R015691344   \n",
       "2                  R000431800   \n",
       "3                  R005285786   \n",
       "4                  R020782033   \n",
       "\n",
       "   Residence_Addresses_Property_Land_Square_Footage  \\\n",
       "0                                           13000.0   \n",
       "1                                           14000.0   \n",
       "2                                           56000.0   \n",
       "3                                           10000.0   \n",
       "4                                            7000.0   \n",
       "\n",
       "  Residence_Addresses_Property_Type Mailing_Addresses_State  \\\n",
       "0                         Apartment                      MA   \n",
       "1                         Apartment                      MA   \n",
       "2                       Residential                      ME   \n",
       "3                       Residential                      MD   \n",
       "4                       Residential                      MD   \n",
       "\n",
       "   Mailing_Addresses_Zip Voters_Gender  Voters_Age Voters_BirthDate  ...  \\\n",
       "0                 2119.0             M        27.0       1997-05-06  ...   \n",
       "1                 2135.0             M        24.0       2000-05-30  ...   \n",
       "2                 3904.0             M        40.0       1984-04-04  ...   \n",
       "3                20603.0             F        28.0       1996-06-17  ...   \n",
       "4                21201.0           NaN        26.0       1998-01-05  ...   \n",
       "\n",
       "  ConsumerData_Likely_Educational_Attainment_Ranking_by_Area  \\\n",
       "0                                                2.0           \n",
       "1                                                7.0           \n",
       "2                                                5.0           \n",
       "3                                                8.0           \n",
       "4                                                7.0           \n",
       "\n",
       "  ConsumerData_Social_Ranking_Index_by_Area  ConsumerData_MAID_Available  \\\n",
       "0                                       4.0                          NaN   \n",
       "1                                       8.0                          NaN   \n",
       "2                                       5.0                         True   \n",
       "3                                       8.0                         True   \n",
       "4                                       6.0                          NaN   \n",
       "\n",
       "  Presidential_Primary_2000_03_07 Presidential_Primary_2004_03_02  \\\n",
       "0                             NaN                             NaN   \n",
       "1                             NaN                             NaN   \n",
       "2                             NaN                             NaN   \n",
       "3                             NaN                             NaN   \n",
       "4                             NaN                             NaN   \n",
       "\n",
       "  Presidential_Primary_2008_03_04 Presidential_Primary_2012_03_06  \\\n",
       "0                             NaN                             NaN   \n",
       "1                             NaN                             NaN   \n",
       "2                             NaN                             NaN   \n",
       "3                             NaN                             NaN   \n",
       "4                             NaN                             NaN   \n",
       "\n",
       "  Presidential_Primary_2016_03_15 Presidential_Primary_2020_03_17  \\\n",
       "0                               Y                               Y   \n",
       "1                             NaN                             NaN   \n",
       "2                             NaN                             NaN   \n",
       "3                               Y                             NaN   \n",
       "4                             NaN                             NaN   \n",
       "\n",
       "  Presidential_Primary_2024_03_19  \n",
       "0                             NaN  \n",
       "1                             NaN  \n",
       "2                             NaN  \n",
       "3                             NaN  \n",
       "4                             NaN  \n",
       "\n",
       "[5 rows x 86 columns]"
      ]
     },
     "execution_count": 18,
     "metadata": {},
     "output_type": "execute_result"
    }
   ],
   "source": [
    "df_merged.head()"
   ]
  },
  {
   "cell_type": "code",
   "execution_count": 21,
   "metadata": {},
   "outputs": [
    {
     "data": {
      "text/plain": [
       "np.int64(0)"
      ]
     },
     "execution_count": 21,
     "metadata": {},
     "output_type": "execute_result"
    }
   ],
   "source": [
    "df_merged[\"LALVOTERID\"].isnull().sum()"
   ]
  },
  {
   "cell_type": "code",
   "execution_count": 23,
   "metadata": {},
   "outputs": [],
   "source": [
    "# save merged\n",
    "df_merged.to_csv(\"../data/oh_merged.csv\")"
   ]
  },
  {
   "cell_type": "code",
   "execution_count": null,
   "metadata": {},
   "outputs": [],
   "source": []
  }
 ],
 "metadata": {
  "kernelspec": {
   "display_name": ".venv",
   "language": "python",
   "name": "python3"
  },
  "language_info": {
   "codemirror_mode": {
    "name": "ipython",
    "version": 3
   },
   "file_extension": ".py",
   "mimetype": "text/x-python",
   "name": "python",
   "nbconvert_exporter": "python",
   "pygments_lexer": "ipython3",
   "version": "3.11.5"
  }
 },
 "nbformat": 4,
 "nbformat_minor": 2
}
