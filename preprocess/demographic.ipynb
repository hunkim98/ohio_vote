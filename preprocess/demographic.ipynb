{
 "cells": [
  {
   "cell_type": "code",
   "execution_count": 1,
   "metadata": {},
   "outputs": [],
   "source": [
    "import pandas as pd\n",
    "import numpy as np\n"
   ]
  },
  {
   "cell_type": "code",
   "execution_count": 2,
   "metadata": {},
   "outputs": [
    {
     "name": "stderr",
     "output_type": "stream",
     "text": [
      "/var/folders/wy/50c5sv7n4wsfhhww_wwjz2tr0000gn/T/ipykernel_17698/3848129770.py:1: DtypeWarning: Columns (10,17,22,38,45,50,72,76,81,82,96,134,136,138,139,140,142,143,147,150,151,155,164,188,189,198,211,437,438,439,440,441,442,443,458,461,463,465,477,478,479,480,481,482,483,484,485,488,489,490,491,492,493,494,495,496,497,498,499,500,501,502,503,504,506,508,509,510,511,512,518,519,521,523,524,526,527,528,530,532,537,538,547,549,550,551,552,553,556,557,558,559,560,561,562,565,571,572,582,588,589,591,597,599,600,601,604,605,606,608,610,611,616,625,626,643,655,657,658,659,660,661,662,663,664,665,666,667,668,669,670,671,672) have mixed types. Specify dtype option on import or set low_memory=False.\n",
      "  df_demography = pd.read_csv('../data/oh_demographic_2024_10_31_small_40000.csv')\n"
     ]
    }
   ],
   "source": [
    "df_demography = pd.read_csv('../data/oh_demographic_2024_10_31_small_40000.csv')"
   ]
  },
  {
   "cell_type": "code",
   "execution_count": 3,
   "metadata": {},
   "outputs": [],
   "source": [
    "# # show head without truncation\n",
    "# pd.set_option('display.max_columns', None)\n",
    "# pd.set_option('display.width', None)\n",
    "# pd.set_option('display.max_rows', None)\n",
    "# df_demography.head()"
   ]
  },
  {
   "cell_type": "code",
   "execution_count": 4,
   "metadata": {},
   "outputs": [],
   "source": [
    "id_col = \"LALVOTERID\"\n",
    "noteworthy_cols = [\n",
    "    \"Residence_Addresses_CensusBlock\",\n",
    "    \"Residence_Families_FamilyID\",\n",
    "    \"Residence_Addresses_Property_Land_Square_Footage\",\n",
    "    \"Residence_Addresses_Property_Type\",\n",
    "    \"Mailing_Addresses_State\",\n",
    "    \"Mailing_Addresses_Zip\",\n",
    "    \"Voters_Gender\",\n",
    "    \"Voters_Age\",\n",
    "    \"Voters_BirthDate\",\n",
    "    \"ConsumerData_Education_of_Person\",\n",
    "    \"EthnicGroups_EthnicGroup1Desc\",\n",
    "    \"ConsumerData_Inferred_HH_Rank\",\n",
    "    \"ConsumerData_Language_Code\",\n",
    "    \"ConsumerData_Marital_Status\",\n",
    "    \"ConsumerData_Single_Parent\",\n",
    "    \"ConsumerDataLL_Veteran\",\n",
    "    \"ConsumerData_African_American_Professional\",\n",
    "    \"ConsumerData_Business_Owner\",\n",
    "    \"ConsumerData_Occupation_Group\",\n",
    "    \"ConsumerData_Occupation_of_Person\",\n",
    "    \"ConsumerData_LikelyRecentEmployment_Executive_Level\",\n",
    "    \"ConsumerData_LikelyRecentEmployment_Executive_Department\",\n",
    "    \"Voters_PlaceOfBirth\",\n",
    "    \"Voters_Active\",\n",
    "    \"Voters_CalculatedRegDate\",\n",
    "    \"Voters_OfficialRegDate\",\n",
    "    \"Parties_Description\",\n",
    "    \"VoterParties_Change_Changed_Party\",\n",
    "    \"ConsumerData_Religion_Code\",\n",
    "    \"ConsumerData_Number_Of_Adults_in_HH\",\n",
    "    \"ConsumerData_Number_Of_Children_in_HH\",\n",
    "    \"ConsumerData_Number_Of_Persons_in_HH\",\n",
    "    \"ConsumerData_Disabled_In_HH\",\n",
    "    \"ConsumerData_Generations_In_HH\",\n",
    "    \"ConsumerData_Presence_Of_Children_in_HH\",\n",
    "    \"ConsumerData_Senior_Adult_In_HH\",\n",
    "    \"ConsumerData_Veteran_In_HH\",\n",
    "    \"ConsumerData_Young_Adult_In_HH\",\n",
    "    \"ConsumerData_Assimilation_Status\",\n",
    "    \"Residence_HHParties_Description\",\n",
    "    \"Residence_Families_HHVotersCount\",\n",
    "    \"County\",\n",
    "    \"Voters_FIPS\",\n",
    "    \"ConsumerData_RUS_Code\",\n",
    "    \"Residence_Addresses_Density\",\n",
    "    \"ConsumerData_AreaPcntHHWithChildren\",\n",
    "    \"ConsumerData_AreaPcntHHMarriedCoupleWithChild\",\n",
    "    \"ConsumerData_AreaPcntHHMarriedCoupleNoChild\",\n",
    "    \"ConsumerData_AreaPcntHHSpanishSpeaking\",\n",
    "    \"FECDonors_NumberOfDonations\",\n",
    "    \"FECDonors_TotalDonationsAmount\",\n",
    "    \"FECDonors_TotalDonationsAmt_Range\",\n",
    "    \"ConsumerData_Home_Purchase_Year\",\n",
    "    \"ConsumerData_Home_Purchase_Date\",\n",
    "    \"ConsumerData_Home_Est_Current_Value_Code\",\n",
    "    \"ConsumerData_TaxAssessedValueTotal\",\n",
    "    \"ConsumerData_Home_Mortgage_Amount\",\n",
    "    \"ConsumerData_Home_Mortgage_Amount_Code\",\n",
    "    \"ConsumerData_Home_Purchase_Price\",\n",
    "    \"ConsumerData_Home_Purchase_Price_Code\",\n",
    "    \"ConsumerData_TaxMarketValueTotal\",\n",
    "    \"ConsumerData_Dwelling_Type\",\n",
    "    \"ConsumerData_AccessibilityHandicapFlag\",\n",
    "    \"Residence_Addresses_Property_Home_Square_Footage\",\n",
    "    \"ConsumerData_Homeowner_Probability_Model\",\n",
    "    \"ConsumerData_BedroomsCount\",\n",
    "    \"ConsumerData_RoomsCount\",\n",
    "    \"ConsumerData_CRA_Income_Classification_Code\",\n",
    "    \"ConsumerData_Credit_Rating\",\n",
    "    \"ConsumerData_Estimated_Income_Amount\",\n",
    "    \"ConsumerData_Household_Net_Worth\",\n",
    "    \"ConsumerData_AreaMedianHousingValue\",\n",
    "    \"ConsumerData_EstimatedAreaMedianHHIncome\",\n",
    "    \"ConsumerData_AreaMedianEducationYears\",\n",
    "    \"ConsumerData_Likely_Income_Ranking_by_Area\",\n",
    "    \"ConsumerData_Likely_Educational_Attainment_Ranking_by_Area\",\n",
    "    \"ConsumerData_Social_Ranking_Index_by_Area\",\n",
    "    \"ConsumerData_MAID_Available\"\n",
    "]\n"
   ]
  },
  {
   "cell_type": "code",
   "execution_count": 5,
   "metadata": {},
   "outputs": [],
   "source": [
    "resized = df_demography[noteworthy_cols]"
   ]
  },
  {
   "cell_type": "code",
   "execution_count": 6,
   "metadata": {},
   "outputs": [
    {
     "ename": "KeyboardInterrupt",
     "evalue": "",
     "output_type": "error",
     "traceback": [
      "\u001b[0;31m---------------------------------------------------------------------------\u001b[0m",
      "\u001b[0;31mKeyboardInterrupt\u001b[0m                         Traceback (most recent call last)",
      "Cell \u001b[0;32mIn[6], line 1\u001b[0m\n\u001b[0;32m----> 1\u001b[0m df_original \u001b[38;5;241m=\u001b[39m \u001b[43mpd\u001b[49m\u001b[38;5;241;43m.\u001b[39;49m\u001b[43mread_csv\u001b[49m\u001b[43m(\u001b[49m\u001b[38;5;124;43m\"\u001b[39;49m\u001b[38;5;124;43m../data/oh_demographic_2024_10_31.csv\u001b[39;49m\u001b[38;5;124;43m\"\u001b[39;49m\u001b[43m)\u001b[49m\n\u001b[1;32m      3\u001b[0m df_original\u001b[38;5;241m.\u001b[39mhead()\n",
      "File \u001b[0;32m~/Github/ohio_vote/.venv/lib/python3.11/site-packages/pandas/io/parsers/readers.py:1026\u001b[0m, in \u001b[0;36mread_csv\u001b[0;34m(filepath_or_buffer, sep, delimiter, header, names, index_col, usecols, dtype, engine, converters, true_values, false_values, skipinitialspace, skiprows, skipfooter, nrows, na_values, keep_default_na, na_filter, verbose, skip_blank_lines, parse_dates, infer_datetime_format, keep_date_col, date_parser, date_format, dayfirst, cache_dates, iterator, chunksize, compression, thousands, decimal, lineterminator, quotechar, quoting, doublequote, escapechar, comment, encoding, encoding_errors, dialect, on_bad_lines, delim_whitespace, low_memory, memory_map, float_precision, storage_options, dtype_backend)\u001b[0m\n\u001b[1;32m   1013\u001b[0m kwds_defaults \u001b[38;5;241m=\u001b[39m _refine_defaults_read(\n\u001b[1;32m   1014\u001b[0m     dialect,\n\u001b[1;32m   1015\u001b[0m     delimiter,\n\u001b[0;32m   (...)\u001b[0m\n\u001b[1;32m   1022\u001b[0m     dtype_backend\u001b[38;5;241m=\u001b[39mdtype_backend,\n\u001b[1;32m   1023\u001b[0m )\n\u001b[1;32m   1024\u001b[0m kwds\u001b[38;5;241m.\u001b[39mupdate(kwds_defaults)\n\u001b[0;32m-> 1026\u001b[0m \u001b[38;5;28;01mreturn\u001b[39;00m \u001b[43m_read\u001b[49m\u001b[43m(\u001b[49m\u001b[43mfilepath_or_buffer\u001b[49m\u001b[43m,\u001b[49m\u001b[43m \u001b[49m\u001b[43mkwds\u001b[49m\u001b[43m)\u001b[49m\n",
      "File \u001b[0;32m~/Github/ohio_vote/.venv/lib/python3.11/site-packages/pandas/io/parsers/readers.py:626\u001b[0m, in \u001b[0;36m_read\u001b[0;34m(filepath_or_buffer, kwds)\u001b[0m\n\u001b[1;32m    623\u001b[0m     \u001b[38;5;28;01mreturn\u001b[39;00m parser\n\u001b[1;32m    625\u001b[0m \u001b[38;5;28;01mwith\u001b[39;00m parser:\n\u001b[0;32m--> 626\u001b[0m     \u001b[38;5;28;01mreturn\u001b[39;00m \u001b[43mparser\u001b[49m\u001b[38;5;241;43m.\u001b[39;49m\u001b[43mread\u001b[49m\u001b[43m(\u001b[49m\u001b[43mnrows\u001b[49m\u001b[43m)\u001b[49m\n",
      "File \u001b[0;32m~/Github/ohio_vote/.venv/lib/python3.11/site-packages/pandas/io/parsers/readers.py:1923\u001b[0m, in \u001b[0;36mTextFileReader.read\u001b[0;34m(self, nrows)\u001b[0m\n\u001b[1;32m   1916\u001b[0m nrows \u001b[38;5;241m=\u001b[39m validate_integer(\u001b[38;5;124m\"\u001b[39m\u001b[38;5;124mnrows\u001b[39m\u001b[38;5;124m\"\u001b[39m, nrows)\n\u001b[1;32m   1917\u001b[0m \u001b[38;5;28;01mtry\u001b[39;00m:\n\u001b[1;32m   1918\u001b[0m     \u001b[38;5;66;03m# error: \"ParserBase\" has no attribute \"read\"\u001b[39;00m\n\u001b[1;32m   1919\u001b[0m     (\n\u001b[1;32m   1920\u001b[0m         index,\n\u001b[1;32m   1921\u001b[0m         columns,\n\u001b[1;32m   1922\u001b[0m         col_dict,\n\u001b[0;32m-> 1923\u001b[0m     ) \u001b[38;5;241m=\u001b[39m \u001b[38;5;28;43mself\u001b[39;49m\u001b[38;5;241;43m.\u001b[39;49m\u001b[43m_engine\u001b[49m\u001b[38;5;241;43m.\u001b[39;49m\u001b[43mread\u001b[49m\u001b[43m(\u001b[49m\u001b[43m  \u001b[49m\u001b[38;5;66;43;03m# type: ignore[attr-defined]\u001b[39;49;00m\n\u001b[1;32m   1924\u001b[0m \u001b[43m        \u001b[49m\u001b[43mnrows\u001b[49m\n\u001b[1;32m   1925\u001b[0m \u001b[43m    \u001b[49m\u001b[43m)\u001b[49m\n\u001b[1;32m   1926\u001b[0m \u001b[38;5;28;01mexcept\u001b[39;00m \u001b[38;5;167;01mException\u001b[39;00m:\n\u001b[1;32m   1927\u001b[0m     \u001b[38;5;28mself\u001b[39m\u001b[38;5;241m.\u001b[39mclose()\n",
      "File \u001b[0;32m~/Github/ohio_vote/.venv/lib/python3.11/site-packages/pandas/io/parsers/c_parser_wrapper.py:234\u001b[0m, in \u001b[0;36mCParserWrapper.read\u001b[0;34m(self, nrows)\u001b[0m\n\u001b[1;32m    232\u001b[0m \u001b[38;5;28;01mtry\u001b[39;00m:\n\u001b[1;32m    233\u001b[0m     \u001b[38;5;28;01mif\u001b[39;00m \u001b[38;5;28mself\u001b[39m\u001b[38;5;241m.\u001b[39mlow_memory:\n\u001b[0;32m--> 234\u001b[0m         chunks \u001b[38;5;241m=\u001b[39m \u001b[38;5;28;43mself\u001b[39;49m\u001b[38;5;241;43m.\u001b[39;49m\u001b[43m_reader\u001b[49m\u001b[38;5;241;43m.\u001b[39;49m\u001b[43mread_low_memory\u001b[49m\u001b[43m(\u001b[49m\u001b[43mnrows\u001b[49m\u001b[43m)\u001b[49m\n\u001b[1;32m    235\u001b[0m         \u001b[38;5;66;03m# destructive to chunks\u001b[39;00m\n\u001b[1;32m    236\u001b[0m         data \u001b[38;5;241m=\u001b[39m _concatenate_chunks(chunks)\n",
      "File \u001b[0;32mparsers.pyx:838\u001b[0m, in \u001b[0;36mpandas._libs.parsers.TextReader.read_low_memory\u001b[0;34m()\u001b[0m\n",
      "File \u001b[0;32mparsers.pyx:921\u001b[0m, in \u001b[0;36mpandas._libs.parsers.TextReader._read_rows\u001b[0;34m()\u001b[0m\n",
      "File \u001b[0;32mparsers.pyx:1083\u001b[0m, in \u001b[0;36mpandas._libs.parsers.TextReader._convert_column_data\u001b[0;34m()\u001b[0m\n",
      "File \u001b[0;32mparsers.pyx:1456\u001b[0m, in \u001b[0;36mpandas._libs.parsers._maybe_upcast\u001b[0;34m()\u001b[0m\n",
      "File \u001b[0;32m~/Github/ohio_vote/.venv/lib/python3.11/site-packages/numpy/_core/multiarray.py:1140\u001b[0m, in \u001b[0;36mputmask\u001b[0;34m(a, mask, values)\u001b[0m\n\u001b[1;32m   1091\u001b[0m \u001b[38;5;250m    \u001b[39m\u001b[38;5;124;03m\"\"\"\u001b[39;00m\n\u001b[1;32m   1092\u001b[0m \u001b[38;5;124;03m    copyto(dst, src, casting='same_kind', where=True)\u001b[39;00m\n\u001b[1;32m   1093\u001b[0m \n\u001b[0;32m   (...)\u001b[0m\n\u001b[1;32m   1135\u001b[0m \n\u001b[1;32m   1136\u001b[0m \u001b[38;5;124;03m    \"\"\"\u001b[39;00m\n\u001b[1;32m   1137\u001b[0m     \u001b[38;5;28;01mreturn\u001b[39;00m (dst, src, where)\n\u001b[0;32m-> 1140\u001b[0m \u001b[38;5;129m@array_function_from_c_func_and_dispatcher\u001b[39m(_multiarray_umath\u001b[38;5;241m.\u001b[39mputmask)\n\u001b[1;32m   1141\u001b[0m \u001b[38;5;28;01mdef\u001b[39;00m \u001b[38;5;21mputmask\u001b[39m(a, \u001b[38;5;241m/\u001b[39m, mask, values):\n\u001b[1;32m   1142\u001b[0m \u001b[38;5;250m    \u001b[39m\u001b[38;5;124;03m\"\"\"\u001b[39;00m\n\u001b[1;32m   1143\u001b[0m \u001b[38;5;124;03m    putmask(a, mask, values)\u001b[39;00m\n\u001b[1;32m   1144\u001b[0m \n\u001b[0;32m   (...)\u001b[0m\n\u001b[1;32m   1180\u001b[0m \n\u001b[1;32m   1181\u001b[0m \u001b[38;5;124;03m    \"\"\"\u001b[39;00m\n\u001b[1;32m   1182\u001b[0m     \u001b[38;5;28;01mreturn\u001b[39;00m (a, mask, values)\n",
      "\u001b[0;31mKeyboardInterrupt\u001b[0m: "
     ]
    }
   ],
   "source": [
    "df_original = pd.read_csv(\"../data/oh_demographic_2024_10_31.csv\")\n",
    "\n",
    "# df_original.head()"
   ]
  },
  {
   "cell_type": "code",
   "execution_count": 8,
   "metadata": {},
   "outputs": [],
   "source": [
    "index_col = \"LALVOTERID\"\n",
    "resized = df_original[[id_col] + noteworthy_cols]\n",
    "# save the resized data\n",
    "resized.to_csv(\"../data/oh_demographic_2024_10_31_core.csv\", index=False)"
   ]
  },
  {
   "cell_type": "code",
   "execution_count": null,
   "metadata": {},
   "outputs": [],
   "source": []
  }
 ],
 "metadata": {
  "kernelspec": {
   "display_name": ".venv",
   "language": "python",
   "name": "python3"
  },
  "language_info": {
   "codemirror_mode": {
    "name": "ipython",
    "version": 3
   },
   "file_extension": ".py",
   "mimetype": "text/x-python",
   "name": "python",
   "nbconvert_exporter": "python",
   "pygments_lexer": "ipython3",
   "version": "3.11.5"
  }
 },
 "nbformat": 4,
 "nbformat_minor": 2
}
